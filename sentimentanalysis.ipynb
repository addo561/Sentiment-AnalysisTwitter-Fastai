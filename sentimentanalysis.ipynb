{
 "cells": [
  {
   "cell_type": "code",
   "execution_count": 1,
   "id": "d212cd24",
   "metadata": {
    "_cell_guid": "b1076dfc-b9ad-4769-8c92-a6c4dae69d19",
    "_uuid": "8f2839f25d086af736a60e9eeb907d3b93b6e0e5",
    "execution": {
     "iopub.execute_input": "2025-01-01T23:42:56.277030Z",
     "iopub.status.busy": "2025-01-01T23:42:56.276629Z",
     "iopub.status.idle": "2025-01-01T23:42:56.899607Z",
     "shell.execute_reply": "2025-01-01T23:42:56.898712Z"
    },
    "papermill": {
     "duration": 0.632542,
     "end_time": "2025-01-01T23:42:56.900986",
     "exception": false,
     "start_time": "2025-01-01T23:42:56.268444",
     "status": "completed"
    },
    "tags": []
   },
   "outputs": [
    {
     "data": {
      "text/plain": [
       "\"\\nimport os\\nfor dirname, _, filenames in os.walk('/kaggle/input'):\\n    for filename in filenames:\\n        print(os.path.join(dirname, filename))\\n        \""
      ]
     },
     "execution_count": 1,
     "metadata": {},
     "output_type": "execute_result"
    }
   ],
   "source": [
    "# This Python 3 environment comes with many helpful analytics libraries installed\n",
    "# It is defined by the kaggle/python Docker image: https://github.com/kaggle/docker-python\n",
    "# For example, here's several helpful packages to load\n",
    "\n",
    "import numpy as np # linear algebra\n",
    "import pandas as pd # data processing, CSV file I/O (e.g. pd.read_csv)\n",
    "\n",
    "# Input data files are available in the read-only \"../input/\" directory\n",
    "# For example, running this (by clicking run or pressing Shift+Enter) will list all files under the input directory\n",
    "'''\n",
    "import os\n",
    "for dirname, _, filenames in os.walk('/kaggle/input'):\n",
    "    for filename in filenames:\n",
    "        print(os.path.join(dirname, filename))\n",
    "        '''\n",
    "\n",
    "# You can write up to 20GB to the current directory (/kaggle/working/) that gets preserved as output when you create a version using \"Save & Run All\" \n",
    "# You can also write temporary files to /kaggle/temp/, but they won't be saved outside of the current session"
   ]
  },
  {
   "cell_type": "code",
   "execution_count": 2,
   "id": "5facb995",
   "metadata": {
    "execution": {
     "iopub.execute_input": "2025-01-01T23:42:56.912271Z",
     "iopub.status.busy": "2025-01-01T23:42:56.911799Z",
     "iopub.status.idle": "2025-01-01T23:43:01.128679Z",
     "shell.execute_reply": "2025-01-01T23:43:01.127985Z"
    },
    "papermill": {
     "duration": 4.224016,
     "end_time": "2025-01-01T23:43:01.130406",
     "exception": false,
     "start_time": "2025-01-01T23:42:56.906390",
     "status": "completed"
    },
    "tags": []
   },
   "outputs": [],
   "source": [
    "from fastai.text.all import *"
   ]
  },
  {
   "cell_type": "code",
   "execution_count": 3,
   "id": "77309e87",
   "metadata": {
    "execution": {
     "iopub.execute_input": "2025-01-01T23:43:01.141583Z",
     "iopub.status.busy": "2025-01-01T23:43:01.141207Z",
     "iopub.status.idle": "2025-01-01T23:43:01.424208Z",
     "shell.execute_reply": "2025-01-01T23:43:01.423465Z"
    },
    "papermill": {
     "duration": 0.289897,
     "end_time": "2025-01-01T23:43:01.425674",
     "exception": false,
     "start_time": "2025-01-01T23:43:01.135777",
     "status": "completed"
    },
    "tags": []
   },
   "outputs": [],
   "source": [
    "train = pd.read_csv('/kaggle/input/twitter/twitter_training.csv')\n",
    "valid = pd.read_csv('/kaggle/input/twitter/twitter_validation.csv')"
   ]
  },
  {
   "cell_type": "code",
   "execution_count": 4,
   "id": "5abcaf14",
   "metadata": {
    "execution": {
     "iopub.execute_input": "2025-01-01T23:43:01.437582Z",
     "iopub.status.busy": "2025-01-01T23:43:01.437332Z",
     "iopub.status.idle": "2025-01-01T23:43:01.456377Z",
     "shell.execute_reply": "2025-01-01T23:43:01.455750Z"
    },
    "papermill": {
     "duration": 0.026036,
     "end_time": "2025-01-01T23:43:01.457481",
     "exception": false,
     "start_time": "2025-01-01T23:43:01.431445",
     "status": "completed"
    },
    "tags": []
   },
   "outputs": [
    {
     "data": {
      "text/plain": [
       "2401                                                       0\n",
       "Borderlands                                                0\n",
       "Positive                                                   0\n",
       "im getting on borderlands and i will murder you all ,    686\n",
       "dtype: int64"
      ]
     },
     "execution_count": 4,
     "metadata": {},
     "output_type": "execute_result"
    }
   ],
   "source": [
    "train.isnull().sum()"
   ]
  },
  {
   "cell_type": "code",
   "execution_count": 5,
   "id": "425ddb52",
   "metadata": {
    "execution": {
     "iopub.execute_input": "2025-01-01T23:43:01.467256Z",
     "iopub.status.busy": "2025-01-01T23:43:01.467042Z",
     "iopub.status.idle": "2025-01-01T23:43:01.472056Z",
     "shell.execute_reply": "2025-01-01T23:43:01.471386Z"
    },
    "papermill": {
     "duration": 0.011097,
     "end_time": "2025-01-01T23:43:01.473227",
     "exception": false,
     "start_time": "2025-01-01T23:43:01.462130",
     "status": "completed"
    },
    "tags": []
   },
   "outputs": [
    {
     "data": {
      "text/plain": [
       "3364                                                                                                                                                                                                                                                  0\n",
       "Facebook                                                                                                                                                                                                                                              0\n",
       "Irrelevant                                                                                                                                                                                                                                            0\n",
       "I mentioned on Facebook that I was struggling for motivation to go for a run the other day, which has been translated by Tom’s great auntie as ‘Hayley can’t get out of bed’ and told to his grandma, who now thinks I’m a lazy, terrible person 🤣    0\n",
       "dtype: int64"
      ]
     },
     "execution_count": 5,
     "metadata": {},
     "output_type": "execute_result"
    }
   ],
   "source": [
    "valid.isnull().sum()"
   ]
  },
  {
   "cell_type": "code",
   "execution_count": 6,
   "id": "2b6830bb",
   "metadata": {
    "execution": {
     "iopub.execute_input": "2025-01-01T23:43:01.486880Z",
     "iopub.status.busy": "2025-01-01T23:43:01.486547Z",
     "iopub.status.idle": "2025-01-01T23:43:01.501346Z",
     "shell.execute_reply": "2025-01-01T23:43:01.500306Z"
    },
    "papermill": {
     "duration": 0.025184,
     "end_time": "2025-01-01T23:43:01.503201",
     "exception": false,
     "start_time": "2025-01-01T23:43:01.478017",
     "status": "completed"
    },
    "tags": []
   },
   "outputs": [
    {
     "data": {
      "text/html": [
       "<div>\n",
       "<style scoped>\n",
       "    .dataframe tbody tr th:only-of-type {\n",
       "        vertical-align: middle;\n",
       "    }\n",
       "\n",
       "    .dataframe tbody tr th {\n",
       "        vertical-align: top;\n",
       "    }\n",
       "\n",
       "    .dataframe thead th {\n",
       "        text-align: right;\n",
       "    }\n",
       "</style>\n",
       "<table border=\"1\" class=\"dataframe\">\n",
       "  <thead>\n",
       "    <tr style=\"text-align: right;\">\n",
       "      <th></th>\n",
       "      <th>id</th>\n",
       "      <th>info</th>\n",
       "      <th>type</th>\n",
       "      <th>text</th>\n",
       "    </tr>\n",
       "  </thead>\n",
       "  <tbody>\n",
       "    <tr>\n",
       "      <th>0</th>\n",
       "      <td>2401</td>\n",
       "      <td>Borderlands</td>\n",
       "      <td>Positive</td>\n",
       "      <td>I am coming to the borders and I will kill you all,</td>\n",
       "    </tr>\n",
       "    <tr>\n",
       "      <th>1</th>\n",
       "      <td>2401</td>\n",
       "      <td>Borderlands</td>\n",
       "      <td>Positive</td>\n",
       "      <td>im getting on borderlands and i will kill you all,</td>\n",
       "    </tr>\n",
       "    <tr>\n",
       "      <th>2</th>\n",
       "      <td>2401</td>\n",
       "      <td>Borderlands</td>\n",
       "      <td>Positive</td>\n",
       "      <td>im coming on borderlands and i will murder you all,</td>\n",
       "    </tr>\n",
       "    <tr>\n",
       "      <th>3</th>\n",
       "      <td>2401</td>\n",
       "      <td>Borderlands</td>\n",
       "      <td>Positive</td>\n",
       "      <td>im getting on borderlands 2 and i will murder you me all,</td>\n",
       "    </tr>\n",
       "    <tr>\n",
       "      <th>4</th>\n",
       "      <td>2401</td>\n",
       "      <td>Borderlands</td>\n",
       "      <td>Positive</td>\n",
       "      <td>im getting into borderlands and i can murder you all,</td>\n",
       "    </tr>\n",
       "    <tr>\n",
       "      <th>...</th>\n",
       "      <td>...</td>\n",
       "      <td>...</td>\n",
       "      <td>...</td>\n",
       "      <td>...</td>\n",
       "    </tr>\n",
       "    <tr>\n",
       "      <th>74676</th>\n",
       "      <td>9200</td>\n",
       "      <td>Nvidia</td>\n",
       "      <td>Positive</td>\n",
       "      <td>Just realized that the Windows partition of my Mac is like 6 years behind Nvidia drivers and I have no idea how I did not notice</td>\n",
       "    </tr>\n",
       "    <tr>\n",
       "      <th>74677</th>\n",
       "      <td>9200</td>\n",
       "      <td>Nvidia</td>\n",
       "      <td>Positive</td>\n",
       "      <td>Just realized that my Mac window partition is 6 years behind on Nvidia drivers and I have no idea how I didn't notice</td>\n",
       "    </tr>\n",
       "    <tr>\n",
       "      <th>74678</th>\n",
       "      <td>9200</td>\n",
       "      <td>Nvidia</td>\n",
       "      <td>Positive</td>\n",
       "      <td>Just realized the windows partition of my Mac is now 6 years behind on Nvidia drivers and I have no idea how he didn’t notice</td>\n",
       "    </tr>\n",
       "    <tr>\n",
       "      <th>74679</th>\n",
       "      <td>9200</td>\n",
       "      <td>Nvidia</td>\n",
       "      <td>Positive</td>\n",
       "      <td>Just realized between the windows partition of my Mac is like being 6 years behind on Nvidia drivers and cars I have no fucking idea how I ever didn ’ t notice</td>\n",
       "    </tr>\n",
       "    <tr>\n",
       "      <th>74680</th>\n",
       "      <td>9200</td>\n",
       "      <td>Nvidia</td>\n",
       "      <td>Positive</td>\n",
       "      <td>Just like the windows partition of my Mac is like 6 years behind on its drivers So you have no idea how I didn’t notice</td>\n",
       "    </tr>\n",
       "  </tbody>\n",
       "</table>\n",
       "<p>74681 rows × 4 columns</p>\n",
       "</div>"
      ],
      "text/plain": [
       "         id         info      type  \\\n",
       "0      2401  Borderlands  Positive   \n",
       "1      2401  Borderlands  Positive   \n",
       "2      2401  Borderlands  Positive   \n",
       "3      2401  Borderlands  Positive   \n",
       "4      2401  Borderlands  Positive   \n",
       "...     ...          ...       ...   \n",
       "74676  9200       Nvidia  Positive   \n",
       "74677  9200       Nvidia  Positive   \n",
       "74678  9200       Nvidia  Positive   \n",
       "74679  9200       Nvidia  Positive   \n",
       "74680  9200       Nvidia  Positive   \n",
       "\n",
       "                                                                                                                                                                  text  \n",
       "0                                                                                                                  I am coming to the borders and I will kill you all,  \n",
       "1                                                                                                                   im getting on borderlands and i will kill you all,  \n",
       "2                                                                                                                  im coming on borderlands and i will murder you all,  \n",
       "3                                                                                                            im getting on borderlands 2 and i will murder you me all,  \n",
       "4                                                                                                                im getting into borderlands and i can murder you all,  \n",
       "...                                                                                                                                                                ...  \n",
       "74676                                 Just realized that the Windows partition of my Mac is like 6 years behind Nvidia drivers and I have no idea how I did not notice  \n",
       "74677                                            Just realized that my Mac window partition is 6 years behind on Nvidia drivers and I have no idea how I didn't notice  \n",
       "74678                                    Just realized the windows partition of my Mac is now 6 years behind on Nvidia drivers and I have no idea how he didn’t notice  \n",
       "74679  Just realized between the windows partition of my Mac is like being 6 years behind on Nvidia drivers and cars I have no fucking idea how I ever didn ’ t notice  \n",
       "74680                                          Just like the windows partition of my Mac is like 6 years behind on its drivers So you have no idea how I didn’t notice  \n",
       "\n",
       "[74681 rows x 4 columns]"
      ]
     },
     "execution_count": 6,
     "metadata": {},
     "output_type": "execute_result"
    }
   ],
   "source": [
    "train.columns = [\"id\", \"info\", \"type\", \"text\"]\n",
    "train"
   ]
  },
  {
   "cell_type": "code",
   "execution_count": 7,
   "id": "1575cc8c",
   "metadata": {
    "execution": {
     "iopub.execute_input": "2025-01-01T23:43:01.526008Z",
     "iopub.status.busy": "2025-01-01T23:43:01.525704Z",
     "iopub.status.idle": "2025-01-01T23:43:01.538092Z",
     "shell.execute_reply": "2025-01-01T23:43:01.536924Z"
    },
    "papermill": {
     "duration": 0.024665,
     "end_time": "2025-01-01T23:43:01.540035",
     "exception": false,
     "start_time": "2025-01-01T23:43:01.515370",
     "status": "completed"
    },
    "tags": []
   },
   "outputs": [
    {
     "data": {
      "text/html": [
       "<div>\n",
       "<style scoped>\n",
       "    .dataframe tbody tr th:only-of-type {\n",
       "        vertical-align: middle;\n",
       "    }\n",
       "\n",
       "    .dataframe tbody tr th {\n",
       "        vertical-align: top;\n",
       "    }\n",
       "\n",
       "    .dataframe thead th {\n",
       "        text-align: right;\n",
       "    }\n",
       "</style>\n",
       "<table border=\"1\" class=\"dataframe\">\n",
       "  <thead>\n",
       "    <tr style=\"text-align: right;\">\n",
       "      <th></th>\n",
       "      <th>id</th>\n",
       "      <th>info</th>\n",
       "      <th>type</th>\n",
       "      <th>text</th>\n",
       "    </tr>\n",
       "  </thead>\n",
       "  <tbody>\n",
       "    <tr>\n",
       "      <th>0</th>\n",
       "      <td>352</td>\n",
       "      <td>Amazon</td>\n",
       "      <td>Neutral</td>\n",
       "      <td>BBC News - Amazon boss Jeff Bezos rejects claims company acted like a 'drug dealer' bbc.co.uk/news/av/busine…</td>\n",
       "    </tr>\n",
       "    <tr>\n",
       "      <th>1</th>\n",
       "      <td>8312</td>\n",
       "      <td>Microsoft</td>\n",
       "      <td>Negative</td>\n",
       "      <td>@Microsoft Why do I pay for WORD when it functions so poorly on my @SamsungUS Chromebook? 🙄</td>\n",
       "    </tr>\n",
       "    <tr>\n",
       "      <th>2</th>\n",
       "      <td>4371</td>\n",
       "      <td>CS-GO</td>\n",
       "      <td>Negative</td>\n",
       "      <td>CSGO matchmaking is so full of closet hacking, it's a truly awful game.</td>\n",
       "    </tr>\n",
       "    <tr>\n",
       "      <th>3</th>\n",
       "      <td>4433</td>\n",
       "      <td>Google</td>\n",
       "      <td>Neutral</td>\n",
       "      <td>Now the President is slapping Americans in the face that he really did commit an unlawful act after his  acquittal! From Discover on Google vanityfair.com/news/2020/02/t…</td>\n",
       "    </tr>\n",
       "    <tr>\n",
       "      <th>4</th>\n",
       "      <td>6273</td>\n",
       "      <td>FIFA</td>\n",
       "      <td>Negative</td>\n",
       "      <td>Hi @EAHelp I’ve had Madeleine McCann in my cellar for the past 13 years and the little sneaky thing just escaped whilst I was loading up some fifa points, she took my card and I’m having to use my paypal account but it isn’t working, can you help me resolve it please?</td>\n",
       "    </tr>\n",
       "    <tr>\n",
       "      <th>...</th>\n",
       "      <td>...</td>\n",
       "      <td>...</td>\n",
       "      <td>...</td>\n",
       "      <td>...</td>\n",
       "    </tr>\n",
       "    <tr>\n",
       "      <th>994</th>\n",
       "      <td>4891</td>\n",
       "      <td>GrandTheftAuto(GTA)</td>\n",
       "      <td>Irrelevant</td>\n",
       "      <td>⭐️ Toronto is the arts and culture capital of Canada, it’s no wonder! If you want to start planning, be sure to check out our GTA Real Estate market report for Fall 2020, it has all the info you need to finally make a move! blog.remax.ca/toronto-housin… twitter.com/kevinyoufool/s…</td>\n",
       "    </tr>\n",
       "    <tr>\n",
       "      <th>995</th>\n",
       "      <td>4359</td>\n",
       "      <td>CS-GO</td>\n",
       "      <td>Irrelevant</td>\n",
       "      <td>tHIS IS ACTUALLY A GOOD MOVE TOT BRING MORE VIEWERS.\\n\\nI was one of those people who got hooked into csgo by watching tournaments first before playing the game. And seeing these players grew is like a netflix docu series for me. Can't wait for 2021.</td>\n",
       "    </tr>\n",
       "    <tr>\n",
       "      <th>996</th>\n",
       "      <td>2652</td>\n",
       "      <td>Borderlands</td>\n",
       "      <td>Positive</td>\n",
       "      <td>Today sucked so it’s time to drink wine n play borderlands until the sun comes up so I can hate myself all day tomorrow.</td>\n",
       "    </tr>\n",
       "    <tr>\n",
       "      <th>997</th>\n",
       "      <td>8069</td>\n",
       "      <td>Microsoft</td>\n",
       "      <td>Positive</td>\n",
       "      <td>Bought a fraction of Microsoft today. Small wins.</td>\n",
       "    </tr>\n",
       "    <tr>\n",
       "      <th>998</th>\n",
       "      <td>6960</td>\n",
       "      <td>johnson&amp;johnson</td>\n",
       "      <td>Neutral</td>\n",
       "      <td>Johnson &amp; Johnson to stop selling talc baby powder in U.S. and Canada j.mp/3e1YtDV (Reuters) https://t.co/dsaUTgb5p9</td>\n",
       "    </tr>\n",
       "  </tbody>\n",
       "</table>\n",
       "<p>999 rows × 4 columns</p>\n",
       "</div>"
      ],
      "text/plain": [
       "       id                 info        type  \\\n",
       "0     352               Amazon     Neutral   \n",
       "1    8312            Microsoft    Negative   \n",
       "2    4371                CS-GO    Negative   \n",
       "3    4433               Google     Neutral   \n",
       "4    6273                 FIFA    Negative   \n",
       "..    ...                  ...         ...   \n",
       "994  4891  GrandTheftAuto(GTA)  Irrelevant   \n",
       "995  4359                CS-GO  Irrelevant   \n",
       "996  2652          Borderlands    Positive   \n",
       "997  8069            Microsoft    Positive   \n",
       "998  6960      johnson&johnson     Neutral   \n",
       "\n",
       "                                                                                                                                                                                                                                                                                          text  \n",
       "0                                                                                                                                                                                BBC News - Amazon boss Jeff Bezos rejects claims company acted like a 'drug dealer' bbc.co.uk/news/av/busine…  \n",
       "1                                                                                                                                                                                                  @Microsoft Why do I pay for WORD when it functions so poorly on my @SamsungUS Chromebook? 🙄  \n",
       "2                                                                                                                                                                                                                      CSGO matchmaking is so full of closet hacking, it's a truly awful game.  \n",
       "3                                                                                                                   Now the President is slapping Americans in the face that he really did commit an unlawful act after his  acquittal! From Discover on Google vanityfair.com/news/2020/02/t…  \n",
       "4                 Hi @EAHelp I’ve had Madeleine McCann in my cellar for the past 13 years and the little sneaky thing just escaped whilst I was loading up some fifa points, she took my card and I’m having to use my paypal account but it isn’t working, can you help me resolve it please?  \n",
       "..                                                                                                                                                                                                                                                                                         ...  \n",
       "994  ⭐️ Toronto is the arts and culture capital of Canada, it’s no wonder! If you want to start planning, be sure to check out our GTA Real Estate market report for Fall 2020, it has all the info you need to finally make a move! blog.remax.ca/toronto-housin… twitter.com/kevinyoufool/s…  \n",
       "995                                 tHIS IS ACTUALLY A GOOD MOVE TOT BRING MORE VIEWERS.\\n\\nI was one of those people who got hooked into csgo by watching tournaments first before playing the game. And seeing these players grew is like a netflix docu series for me. Can't wait for 2021.  \n",
       "996                                                                                                                                                                   Today sucked so it’s time to drink wine n play borderlands until the sun comes up so I can hate myself all day tomorrow.  \n",
       "997                                                                                                                                                                                                                                          Bought a fraction of Microsoft today. Small wins.  \n",
       "998                                                                                                                                                                       Johnson & Johnson to stop selling talc baby powder in U.S. and Canada j.mp/3e1YtDV (Reuters) https://t.co/dsaUTgb5p9  \n",
       "\n",
       "[999 rows x 4 columns]"
      ]
     },
     "execution_count": 7,
     "metadata": {},
     "output_type": "execute_result"
    }
   ],
   "source": [
    "valid.columns = [\"id\", \"info\", \"type\", \"text\"]\n",
    "valid"
   ]
  },
  {
   "cell_type": "code",
   "execution_count": 8,
   "id": "3a6f3357",
   "metadata": {
    "execution": {
     "iopub.execute_input": "2025-01-01T23:43:01.558359Z",
     "iopub.status.busy": "2025-01-01T23:43:01.558022Z",
     "iopub.status.idle": "2025-01-01T23:43:01.574335Z",
     "shell.execute_reply": "2025-01-01T23:43:01.573526Z"
    },
    "papermill": {
     "duration": 0.026115,
     "end_time": "2025-01-01T23:43:01.575825",
     "exception": false,
     "start_time": "2025-01-01T23:43:01.549710",
     "status": "completed"
    },
    "tags": []
   },
   "outputs": [],
   "source": [
    "# Fill missing values in the 'text' column with a placeholder string\n",
    "train['text'] = train['text'].fillna('Missing') \n"
   ]
  },
  {
   "cell_type": "code",
   "execution_count": 9,
   "id": "83411cad",
   "metadata": {
    "execution": {
     "iopub.execute_input": "2025-01-01T23:43:01.596876Z",
     "iopub.status.busy": "2025-01-01T23:43:01.596660Z",
     "iopub.status.idle": "2025-01-01T23:43:01.615125Z",
     "shell.execute_reply": "2025-01-01T23:43:01.614081Z"
    },
    "papermill": {
     "duration": 0.030108,
     "end_time": "2025-01-01T23:43:01.616659",
     "exception": false,
     "start_time": "2025-01-01T23:43:01.586551",
     "status": "completed"
    },
    "tags": []
   },
   "outputs": [
    {
     "data": {
      "text/plain": [
       "id      0\n",
       "info    0\n",
       "type    0\n",
       "text    0\n",
       "dtype: int64"
      ]
     },
     "execution_count": 9,
     "metadata": {},
     "output_type": "execute_result"
    }
   ],
   "source": [
    "train.isnull().sum()"
   ]
  },
  {
   "cell_type": "code",
   "execution_count": 10,
   "id": "1fedcf63",
   "metadata": {
    "execution": {
     "iopub.execute_input": "2025-01-01T23:43:01.632008Z",
     "iopub.status.busy": "2025-01-01T23:43:01.631740Z",
     "iopub.status.idle": "2025-01-01T23:43:01.636678Z",
     "shell.execute_reply": "2025-01-01T23:43:01.636096Z"
    },
    "papermill": {
     "duration": 0.011833,
     "end_time": "2025-01-01T23:43:01.637762",
     "exception": false,
     "start_time": "2025-01-01T23:43:01.625929",
     "status": "completed"
    },
    "tags": []
   },
   "outputs": [
    {
     "data": {
      "text/plain": [
       "Index(['id', 'info', 'type', 'text'], dtype='object')"
      ]
     },
     "execution_count": 10,
     "metadata": {},
     "output_type": "execute_result"
    }
   ],
   "source": [
    "train.columns"
   ]
  },
  {
   "cell_type": "code",
   "execution_count": 11,
   "id": "6f76b282",
   "metadata": {
    "execution": {
     "iopub.execute_input": "2025-01-01T23:43:01.649228Z",
     "iopub.status.busy": "2025-01-01T23:43:01.649006Z",
     "iopub.status.idle": "2025-01-01T23:44:37.696250Z",
     "shell.execute_reply": "2025-01-01T23:44:37.695492Z"
    },
    "papermill": {
     "duration": 96.054773,
     "end_time": "2025-01-01T23:44:37.697938",
     "exception": false,
     "start_time": "2025-01-01T23:43:01.643165",
     "status": "completed"
    },
    "tags": []
   },
   "outputs": [],
   "source": [
    "dls = DataBlock(\n",
    "    blocks=TextBlock.from_df('text', is_lm=True),\n",
    "    get_items=ColReader('text'), splitter=RandomSplitter(0.1)\n",
    ").dataloaders(train, bs=64, seq_len=80)"
   ]
  },
  {
   "cell_type": "code",
   "execution_count": 12,
   "id": "190bd3dc",
   "metadata": {
    "execution": {
     "iopub.execute_input": "2025-01-01T23:44:37.710743Z",
     "iopub.status.busy": "2025-01-01T23:44:37.710358Z",
     "iopub.status.idle": "2025-01-01T23:44:38.118830Z",
     "shell.execute_reply": "2025-01-01T23:44:38.117957Z"
    },
    "papermill": {
     "duration": 0.415735,
     "end_time": "2025-01-01T23:44:38.120157",
     "exception": false,
     "start_time": "2025-01-01T23:44:37.704422",
     "status": "completed"
    },
    "tags": []
   },
   "outputs": [
    {
     "data": {
      "text/html": [
       "<table border=\"1\" class=\"dataframe\">\n",
       "  <thead>\n",
       "    <tr style=\"text-align: right;\">\n",
       "      <th></th>\n",
       "      <th>text</th>\n",
       "      <th>text_</th>\n",
       "    </tr>\n",
       "  </thead>\n",
       "  <tbody>\n",
       "    <tr>\n",
       "      <th>0</th>\n",
       "      <td>xxbos xxmaj it will be a dream come true . xxbos xxup nvidia $ nvda xxmaj this xxmaj an xxmaj excellent xxbos xxmaj this looks … kinda clean ! xxbos yo fuck this i ca n't believe i just wasted 10 minutes of my life on a fucking world of warcraft cutscene fuck this piece of shitty ass shit game xxbos then why cry here about how you are treated here . if you do n't like it , go</td>\n",
       "      <td>xxmaj it will be a dream come true . xxbos xxup nvidia $ nvda xxmaj this xxmaj an xxmaj excellent xxbos xxmaj this looks … kinda clean ! xxbos yo fuck this i ca n't believe i just wasted 10 minutes of my life on a fucking world of warcraft cutscene fuck this piece of shitty ass shit game xxbos then why cry here about how you are treated here . if you do n't like it , go to</td>\n",
       "    </tr>\n",
       "    <tr>\n",
       "      <th>1</th>\n",
       "      <td>earned the [ the xxmaj second xxmaj threat ] xxmaj achievement ! xxbos xxmaj say hello to xxmaj sasha xxmaj hostyn aka xxmaj scarlett , currently the highest earning esports player in the world ! xxmaj she hails from xxmaj canada and has built her amazing career in xxmaj starcraft 2 and xxmaj dota 2 .. xxmaj much respect to this amazing woman and her role model ! . @ xxunk pic.twitter.com / dm71v11cty xxbos xxmaj it 's going to</td>\n",
       "      <td>the [ the xxmaj second xxmaj threat ] xxmaj achievement ! xxbos xxmaj say hello to xxmaj sasha xxmaj hostyn aka xxmaj scarlett , currently the highest earning esports player in the world ! xxmaj she hails from xxmaj canada and has built her amazing career in xxmaj starcraft 2 and xxmaj dota 2 .. xxmaj much respect to this amazing woman and her role model ! . @ xxunk pic.twitter.com / dm71v11cty xxbos xxmaj it 's going to be</td>\n",
       "    </tr>\n",
       "  </tbody>\n",
       "</table>"
      ],
      "text/plain": [
       "<IPython.core.display.HTML object>"
      ]
     },
     "metadata": {},
     "output_type": "display_data"
    }
   ],
   "source": [
    "dls.show_batch(max_n=2)"
   ]
  },
  {
   "cell_type": "code",
   "execution_count": 13,
   "id": "cec12bf2",
   "metadata": {
    "execution": {
     "iopub.execute_input": "2025-01-01T23:44:38.132169Z",
     "iopub.status.busy": "2025-01-01T23:44:38.131892Z",
     "iopub.status.idle": "2025-01-01T23:44:42.304812Z",
     "shell.execute_reply": "2025-01-01T23:44:42.304132Z"
    },
    "papermill": {
     "duration": 4.180618,
     "end_time": "2025-01-01T23:44:42.306465",
     "exception": false,
     "start_time": "2025-01-01T23:44:38.125847",
     "status": "completed"
    },
    "tags": []
   },
   "outputs": [
    {
     "data": {
      "text/html": [
       "\n",
       "<style>\n",
       "    /* Turns off some styling */\n",
       "    progress {\n",
       "        /* gets rid of default border in Firefox and Opera. */\n",
       "        border: none;\n",
       "        /* Needs to be in here for Safari polyfill so background images work as expected. */\n",
       "        background-size: auto;\n",
       "    }\n",
       "    progress:not([value]), progress:not([value])::-webkit-progress-bar {\n",
       "        background: repeating-linear-gradient(45deg, #7e7e7e, #7e7e7e 10px, #5c5c5c 10px, #5c5c5c 20px);\n",
       "    }\n",
       "    .progress-bar-interrupted, .progress-bar-interrupted::-webkit-progress-bar {\n",
       "        background: #F44336;\n",
       "    }\n",
       "</style>\n"
      ],
      "text/plain": [
       "<IPython.core.display.HTML object>"
      ]
     },
     "metadata": {},
     "output_type": "display_data"
    },
    {
     "data": {
      "text/html": [
       "\n",
       "    <div>\n",
       "      <progress value='105070592' class='' max='105067061' style='width:300px; height:20px; vertical-align: middle;'></progress>\n",
       "      100.00% [105070592/105067061 00:01&lt;00:00]\n",
       "    </div>\n",
       "    "
      ],
      "text/plain": [
       "<IPython.core.display.HTML object>"
      ]
     },
     "metadata": {},
     "output_type": "display_data"
    },
    {
     "name": "stderr",
     "output_type": "stream",
     "text": [
      "/usr/local/lib/python3.10/dist-packages/fastai/text/learner.py:149: FutureWarning: You are using `torch.load` with `weights_only=False` (the current default value), which uses the default pickle module implicitly. It is possible to construct malicious pickle data which will execute arbitrary code during unpickling (See https://github.com/pytorch/pytorch/blob/main/SECURITY.md#untrusted-models for more details). In a future release, the default value for `weights_only` will be flipped to `True`. This limits the functions that could be executed during unpickling. Arbitrary objects will no longer be allowed to be loaded via this mode unless they are explicitly allowlisted by the user via `torch.serialization.add_safe_globals`. We recommend you start setting `weights_only=True` for any use case where you don't have full control of the loaded file. Please open an issue on GitHub for any issues related to this experimental feature.\n",
      "  wgts = torch.load(wgts_fname, map_location = lambda storage,loc: storage)\n"
     ]
    }
   ],
   "source": [
    "learn = language_model_learner(\n",
    "    dls,AWD_LSTM,drop_mult=0.3,\n",
    "metrics=[accuracy,Perplexity()]\n",
    ").to_fp16()"
   ]
  },
  {
   "cell_type": "code",
   "execution_count": 14,
   "id": "85fc0c64",
   "metadata": {
    "execution": {
     "iopub.execute_input": "2025-01-01T23:44:42.319238Z",
     "iopub.status.busy": "2025-01-01T23:44:42.318996Z",
     "iopub.status.idle": "2025-01-01T23:46:53.431637Z",
     "shell.execute_reply": "2025-01-01T23:46:53.430726Z"
    },
    "papermill": {
     "duration": 131.120268,
     "end_time": "2025-01-01T23:46:53.432941",
     "exception": false,
     "start_time": "2025-01-01T23:44:42.312673",
     "status": "completed"
    },
    "tags": []
   },
   "outputs": [
    {
     "name": "stderr",
     "output_type": "stream",
     "text": [
      "/usr/local/lib/python3.10/dist-packages/fastai/callback/fp16.py:47: FutureWarning: `torch.cuda.amp.autocast(args...)` is deprecated. Please use `torch.amp.autocast('cuda', args...)` instead.\n",
      "  self.autocast,self.learn.scaler,self.scales = autocast(dtype=dtype),GradScaler(**self.kwargs),L()\n",
      "/usr/local/lib/python3.10/dist-packages/fastai/callback/fp16.py:47: FutureWarning: `torch.cuda.amp.GradScaler(args...)` is deprecated. Please use `torch.amp.GradScaler('cuda', args...)` instead.\n",
      "  self.autocast,self.learn.scaler,self.scales = autocast(dtype=dtype),GradScaler(**self.kwargs),L()\n"
     ]
    },
    {
     "data": {
      "text/html": [
       "\n",
       "<style>\n",
       "    /* Turns off some styling */\n",
       "    progress {\n",
       "        /* gets rid of default border in Firefox and Opera. */\n",
       "        border: none;\n",
       "        /* Needs to be in here for Safari polyfill so background images work as expected. */\n",
       "        background-size: auto;\n",
       "    }\n",
       "    progress:not([value]), progress:not([value])::-webkit-progress-bar {\n",
       "        background: repeating-linear-gradient(45deg, #7e7e7e, #7e7e7e 10px, #5c5c5c 10px, #5c5c5c 20px);\n",
       "    }\n",
       "    .progress-bar-interrupted, .progress-bar-interrupted::-webkit-progress-bar {\n",
       "        background: #F44336;\n",
       "    }\n",
       "</style>\n"
      ],
      "text/plain": [
       "<IPython.core.display.HTML object>"
      ]
     },
     "metadata": {},
     "output_type": "display_data"
    },
    {
     "data": {
      "text/html": [
       "<table border=\"1\" class=\"dataframe\">\n",
       "  <thead>\n",
       "    <tr style=\"text-align: left;\">\n",
       "      <th>epoch</th>\n",
       "      <th>train_loss</th>\n",
       "      <th>valid_loss</th>\n",
       "      <th>accuracy</th>\n",
       "      <th>perplexity</th>\n",
       "      <th>time</th>\n",
       "    </tr>\n",
       "  </thead>\n",
       "  <tbody>\n",
       "    <tr>\n",
       "      <td>0</td>\n",
       "      <td>4.111489</td>\n",
       "      <td>3.984064</td>\n",
       "      <td>0.302163</td>\n",
       "      <td>53.734974</td>\n",
       "      <td>02:11</td>\n",
       "    </tr>\n",
       "  </tbody>\n",
       "</table>"
      ],
      "text/plain": [
       "<IPython.core.display.HTML object>"
      ]
     },
     "metadata": {},
     "output_type": "display_data"
    }
   ],
   "source": [
    "learn.fit_one_cycle(1,2e-2)"
   ]
  },
  {
   "cell_type": "code",
   "execution_count": 15,
   "id": "5ca3f449",
   "metadata": {
    "execution": {
     "iopub.execute_input": "2025-01-01T23:46:53.446135Z",
     "iopub.status.busy": "2025-01-01T23:46:53.445847Z",
     "iopub.status.idle": "2025-01-01T23:46:53.806491Z",
     "shell.execute_reply": "2025-01-01T23:46:53.805661Z"
    },
    "papermill": {
     "duration": 0.368428,
     "end_time": "2025-01-01T23:46:53.807803",
     "exception": false,
     "start_time": "2025-01-01T23:46:53.439375",
     "status": "completed"
    },
    "tags": []
   },
   "outputs": [
    {
     "data": {
      "text/plain": [
       "Path('models/epoch1.pth')"
      ]
     },
     "execution_count": 15,
     "metadata": {},
     "output_type": "execute_result"
    }
   ],
   "source": [
    "learn.save('epoch1')"
   ]
  },
  {
   "cell_type": "code",
   "execution_count": 16,
   "id": "119cb1e3",
   "metadata": {
    "execution": {
     "iopub.execute_input": "2025-01-01T23:46:53.821472Z",
     "iopub.status.busy": "2025-01-01T23:46:53.821217Z",
     "iopub.status.idle": "2025-01-01T23:46:53.987011Z",
     "shell.execute_reply": "2025-01-01T23:46:53.985892Z"
    },
    "papermill": {
     "duration": 0.174178,
     "end_time": "2025-01-01T23:46:53.988594",
     "exception": false,
     "start_time": "2025-01-01T23:46:53.814416",
     "status": "completed"
    },
    "tags": []
   },
   "outputs": [
    {
     "name": "stderr",
     "output_type": "stream",
     "text": [
      "/usr/local/lib/python3.10/dist-packages/fastai/text/learner.py:92: FutureWarning: You are using `torch.load` with `weights_only=False` (the current default value), which uses the default pickle module implicitly. It is possible to construct malicious pickle data which will execute arbitrary code during unpickling (See https://github.com/pytorch/pytorch/blob/main/SECURITY.md#untrusted-models for more details). In a future release, the default value for `weights_only` will be flipped to `True`. This limits the functions that could be executed during unpickling. Arbitrary objects will no longer be allowed to be loaded via this mode unless they are explicitly allowlisted by the user via `torch.serialization.add_safe_globals`. We recommend you start setting `weights_only=True` for any use case where you don't have full control of the loaded file. Please open an issue on GitHub for any issues related to this experimental feature.\n",
      "  state = torch.load(file, map_location=device)\n"
     ]
    }
   ],
   "source": [
    "learn = learn.load('epoch1')"
   ]
  },
  {
   "cell_type": "code",
   "execution_count": 17,
   "id": "7d6469ab",
   "metadata": {
    "execution": {
     "iopub.execute_input": "2025-01-01T23:46:54.003674Z",
     "iopub.status.busy": "2025-01-01T23:46:54.003423Z",
     "iopub.status.idle": "2025-01-02T00:01:39.513140Z",
     "shell.execute_reply": "2025-01-02T00:01:39.512119Z"
    },
    "papermill": {
     "duration": 885.518694,
     "end_time": "2025-01-02T00:01:39.514447",
     "exception": false,
     "start_time": "2025-01-01T23:46:53.995753",
     "status": "completed"
    },
    "tags": []
   },
   "outputs": [
    {
     "name": "stderr",
     "output_type": "stream",
     "text": [
      "/usr/local/lib/python3.10/dist-packages/fastai/callback/fp16.py:47: FutureWarning: `torch.cuda.amp.autocast(args...)` is deprecated. Please use `torch.amp.autocast('cuda', args...)` instead.\n",
      "  self.autocast,self.learn.scaler,self.scales = autocast(dtype=dtype),GradScaler(**self.kwargs),L()\n",
      "/usr/local/lib/python3.10/dist-packages/fastai/callback/fp16.py:47: FutureWarning: `torch.cuda.amp.GradScaler(args...)` is deprecated. Please use `torch.amp.GradScaler('cuda', args...)` instead.\n",
      "  self.autocast,self.learn.scaler,self.scales = autocast(dtype=dtype),GradScaler(**self.kwargs),L()\n"
     ]
    },
    {
     "data": {
      "text/html": [
       "\n",
       "<style>\n",
       "    /* Turns off some styling */\n",
       "    progress {\n",
       "        /* gets rid of default border in Firefox and Opera. */\n",
       "        border: none;\n",
       "        /* Needs to be in here for Safari polyfill so background images work as expected. */\n",
       "        background-size: auto;\n",
       "    }\n",
       "    progress:not([value]), progress:not([value])::-webkit-progress-bar {\n",
       "        background: repeating-linear-gradient(45deg, #7e7e7e, #7e7e7e 10px, #5c5c5c 10px, #5c5c5c 20px);\n",
       "    }\n",
       "    .progress-bar-interrupted, .progress-bar-interrupted::-webkit-progress-bar {\n",
       "        background: #F44336;\n",
       "    }\n",
       "</style>\n"
      ],
      "text/plain": [
       "<IPython.core.display.HTML object>"
      ]
     },
     "metadata": {},
     "output_type": "display_data"
    },
    {
     "data": {
      "text/html": [
       "<table border=\"1\" class=\"dataframe\">\n",
       "  <thead>\n",
       "    <tr style=\"text-align: left;\">\n",
       "      <th>epoch</th>\n",
       "      <th>train_loss</th>\n",
       "      <th>valid_loss</th>\n",
       "      <th>accuracy</th>\n",
       "      <th>perplexity</th>\n",
       "      <th>time</th>\n",
       "    </tr>\n",
       "  </thead>\n",
       "  <tbody>\n",
       "    <tr>\n",
       "      <td>0</td>\n",
       "      <td>3.594631</td>\n",
       "      <td>3.668375</td>\n",
       "      <td>0.343707</td>\n",
       "      <td>39.188194</td>\n",
       "      <td>02:19</td>\n",
       "    </tr>\n",
       "    <tr>\n",
       "      <td>1</td>\n",
       "      <td>3.163082</td>\n",
       "      <td>3.202321</td>\n",
       "      <td>0.418105</td>\n",
       "      <td>24.589531</td>\n",
       "      <td>02:27</td>\n",
       "    </tr>\n",
       "    <tr>\n",
       "      <td>2</td>\n",
       "      <td>2.623580</td>\n",
       "      <td>2.847234</td>\n",
       "      <td>0.487137</td>\n",
       "      <td>17.240030</td>\n",
       "      <td>02:28</td>\n",
       "    </tr>\n",
       "    <tr>\n",
       "      <td>3</td>\n",
       "      <td>2.160713</td>\n",
       "      <td>2.612622</td>\n",
       "      <td>0.540951</td>\n",
       "      <td>13.634761</td>\n",
       "      <td>02:31</td>\n",
       "    </tr>\n",
       "    <tr>\n",
       "      <td>4</td>\n",
       "      <td>1.856373</td>\n",
       "      <td>2.525700</td>\n",
       "      <td>0.566461</td>\n",
       "      <td>12.499638</td>\n",
       "      <td>02:22</td>\n",
       "    </tr>\n",
       "    <tr>\n",
       "      <td>5</td>\n",
       "      <td>1.670139</td>\n",
       "      <td>2.521040</td>\n",
       "      <td>0.570544</td>\n",
       "      <td>12.441525</td>\n",
       "      <td>02:35</td>\n",
       "    </tr>\n",
       "  </tbody>\n",
       "</table>"
      ],
      "text/plain": [
       "<IPython.core.display.HTML object>"
      ]
     },
     "metadata": {},
     "output_type": "display_data"
    }
   ],
   "source": [
    "learn.unfreeze()\n",
    "learn.fit_one_cycle(6,2e-3)"
   ]
  },
  {
   "cell_type": "code",
   "execution_count": 18,
   "id": "d6dadc11",
   "metadata": {
    "execution": {
     "iopub.execute_input": "2025-01-02T00:01:39.529094Z",
     "iopub.status.busy": "2025-01-02T00:01:39.528800Z",
     "iopub.status.idle": "2025-01-02T00:01:39.737989Z",
     "shell.execute_reply": "2025-01-02T00:01:39.737007Z"
    },
    "papermill": {
     "duration": 0.218327,
     "end_time": "2025-01-02T00:01:39.739639",
     "exception": false,
     "start_time": "2025-01-02T00:01:39.521312",
     "status": "completed"
    },
    "tags": []
   },
   "outputs": [],
   "source": [
    "learn.save_encoder('finetuned')"
   ]
  },
  {
   "cell_type": "code",
   "execution_count": 19,
   "id": "da551a36",
   "metadata": {
    "execution": {
     "iopub.execute_input": "2025-01-02T00:01:39.754009Z",
     "iopub.status.busy": "2025-01-02T00:01:39.753696Z",
     "iopub.status.idle": "2025-01-02T00:02:01.752616Z",
     "shell.execute_reply": "2025-01-02T00:02:01.751555Z"
    },
    "papermill": {
     "duration": 22.008002,
     "end_time": "2025-01-02T00:02:01.754388",
     "exception": false,
     "start_time": "2025-01-02T00:01:39.746386",
     "status": "completed"
    },
    "tags": []
   },
   "outputs": [
    {
     "name": "stderr",
     "output_type": "stream",
     "text": [
      "/usr/local/lib/python3.10/dist-packages/spacy/util.py:1740: UserWarning: [W111] Jupyter notebook detected: if using `prefer_gpu()` or `require_gpu()`, include it in the same cell right before `spacy.load()` to ensure that the model is loaded on the correct device. More information: http://spacy.io/usage/v3#jupyter-notebook-gpu\n",
      "  warnings.warn(Warnings.W111)\n"
     ]
    },
    {
     "data": {
      "text/html": [
       "\n",
       "<style>\n",
       "    /* Turns off some styling */\n",
       "    progress {\n",
       "        /* gets rid of default border in Firefox and Opera. */\n",
       "        border: none;\n",
       "        /* Needs to be in here for Safari polyfill so background images work as expected. */\n",
       "        background-size: auto;\n",
       "    }\n",
       "    progress:not([value]), progress:not([value])::-webkit-progress-bar {\n",
       "        background: repeating-linear-gradient(45deg, #7e7e7e, #7e7e7e 10px, #5c5c5c 10px, #5c5c5c 20px);\n",
       "    }\n",
       "    .progress-bar-interrupted, .progress-bar-interrupted::-webkit-progress-bar {\n",
       "        background: #F44336;\n",
       "    }\n",
       "</style>\n"
      ],
      "text/plain": [
       "<IPython.core.display.HTML object>"
      ]
     },
     "metadata": {},
     "output_type": "display_data"
    },
    {
     "data": {
      "text/html": [],
      "text/plain": [
       "<IPython.core.display.HTML object>"
      ]
     },
     "metadata": {},
     "output_type": "display_data"
    }
   ],
   "source": [
    "dls2 = DataBlock(blocks=(TextBlock.from_df('text',seq_len=72,vocab=dls.vocab),CategoryBlock),\n",
    "                get_x=ColReader('text'),\n",
    "                get_y=ColReader('type'),\n",
    "                splitter=RandomSplitter(0.1)).dataloaders(train,bs=64,seq_len=72)"
   ]
  },
  {
   "cell_type": "code",
   "execution_count": 20,
   "id": "fc12cbaa",
   "metadata": {
    "execution": {
     "iopub.execute_input": "2025-01-02T00:02:01.769172Z",
     "iopub.status.busy": "2025-01-02T00:02:01.768876Z",
     "iopub.status.idle": "2025-01-02T00:02:01.889375Z",
     "shell.execute_reply": "2025-01-02T00:02:01.888562Z"
    },
    "papermill": {
     "duration": 0.12897,
     "end_time": "2025-01-02T00:02:01.890692",
     "exception": false,
     "start_time": "2025-01-02T00:02:01.761722",
     "status": "completed"
    },
    "tags": []
   },
   "outputs": [
    {
     "data": {
      "text/html": [
       "<table border=\"1\" class=\"dataframe\">\n",
       "  <thead>\n",
       "    <tr style=\"text-align: right;\">\n",
       "      <th></th>\n",
       "      <th>text</th>\n",
       "      <th>category</th>\n",
       "    </tr>\n",
       "  </thead>\n",
       "  <tbody>\n",
       "    <tr>\n",
       "      <th>0</th>\n",
       "      <td>xxbos xxmaj italy , xxmaj italy , xxmaj italy , xxmaj italy , xxmaj italy , xxmaj italy , xxmaj italy , xxmaj italy , xxmaj italy , xxmaj italy , xxmaj italy , xxmaj italy , xxmaj italy , xxmaj italy , xxmaj italy , xxmaj italy , xxmaj italy , xxmaj italy , xxmaj italy , xxmaj italy , xxmaj italy , xxmaj italy , xxmaj italy , xxmaj italy , xxmaj italy , xxmaj italy , xxmaj italy , xxmaj italy , xxmaj italy , xxmaj italy , xxmaj italy , xxmaj italy , xxmaj italy , xxmaj italy , xxmaj italy , xxmaj italy , xxmaj italy , xxmaj italy , xxmaj italy , xxmaj italy , xxmaj italy , xxmaj italy , xxmaj italy , xxmaj italy , xxmaj italy , xxmaj italy , xxmaj italy , xxmaj italy , xxmaj italy , xxmaj italy</td>\n",
       "      <td>Irrelevant</td>\n",
       "    </tr>\n",
       "    <tr>\n",
       "      <th>1</th>\n",
       "      <td>xxbos # # # # # # # # # # # # # # # # # # # # # # # # # # # # # # # # # # # # # # # # # # # # # # # # # # # # # # # # # # # # # # # # # # # # # # # # # # # # # # # # # # # # # # # # # # # # # # # # # # # # # # # # # # # # # # # # # # # # # # # # # # # # # # # # # # # # # # # # # # # # # # # # # # # # #</td>\n",
       "      <td>Negative</td>\n",
       "    </tr>\n",
       "    <tr>\n",
       "      <th>2</th>\n",
       "      <td>xxbos xxmaj um - m - m - m - m - m - m - m - m - m - m - m - m - m - m - m - m - m - m - m - m - m - m - m - m - m - m - m - m - m - m - m - m - m - m - m - m - m - m - m - m - m - m - m - m - m - m - m - m - m - m - m - m - m - m - m - m - m - m - m - m - m - m - m - m - m - m - m - m - m - m - m - m - m -</td>\n",
       "      <td>Irrelevant</td>\n",
       "    </tr>\n",
       "  </tbody>\n",
       "</table>"
      ],
      "text/plain": [
       "<IPython.core.display.HTML object>"
      ]
     },
     "metadata": {},
     "output_type": "display_data"
    }
   ],
   "source": [
    "dls2.show_batch(max_n=3)"
   ]
  },
  {
   "cell_type": "code",
   "execution_count": 21,
   "id": "52aa198f",
   "metadata": {
    "execution": {
     "iopub.execute_input": "2025-01-02T00:02:01.905590Z",
     "iopub.status.busy": "2025-01-02T00:02:01.905346Z",
     "iopub.status.idle": "2025-01-02T00:02:02.776332Z",
     "shell.execute_reply": "2025-01-02T00:02:02.775370Z"
    },
    "papermill": {
     "duration": 0.879708,
     "end_time": "2025-01-02T00:02:02.777929",
     "exception": false,
     "start_time": "2025-01-02T00:02:01.898221",
     "status": "completed"
    },
    "tags": []
   },
   "outputs": [
    {
     "name": "stderr",
     "output_type": "stream",
     "text": [
      "/usr/local/lib/python3.10/dist-packages/fastai/text/learner.py:149: FutureWarning: You are using `torch.load` with `weights_only=False` (the current default value), which uses the default pickle module implicitly. It is possible to construct malicious pickle data which will execute arbitrary code during unpickling (See https://github.com/pytorch/pytorch/blob/main/SECURITY.md#untrusted-models for more details). In a future release, the default value for `weights_only` will be flipped to `True`. This limits the functions that could be executed during unpickling. Arbitrary objects will no longer be allowed to be loaded via this mode unless they are explicitly allowlisted by the user via `torch.serialization.add_safe_globals`. We recommend you start setting `weights_only=True` for any use case where you don't have full control of the loaded file. Please open an issue on GitHub for any issues related to this experimental feature.\n",
      "  wgts = torch.load(wgts_fname, map_location = lambda storage,loc: storage)\n"
     ]
    }
   ],
   "source": [
    "learn = text_classifier_learner(dls2,AWD_LSTM,drop_mult=0.5,metrics=accuracy).to_fp16()"
   ]
  },
  {
   "cell_type": "code",
   "execution_count": 22,
   "id": "3895f13b",
   "metadata": {
    "execution": {
     "iopub.execute_input": "2025-01-02T00:02:02.792850Z",
     "iopub.status.busy": "2025-01-02T00:02:02.792588Z",
     "iopub.status.idle": "2025-01-02T00:02:02.922699Z",
     "shell.execute_reply": "2025-01-02T00:02:02.921751Z"
    },
    "papermill": {
     "duration": 0.139194,
     "end_time": "2025-01-02T00:02:02.924443",
     "exception": false,
     "start_time": "2025-01-02T00:02:02.785249",
     "status": "completed"
    },
    "tags": []
   },
   "outputs": [
    {
     "name": "stderr",
     "output_type": "stream",
     "text": [
      "/usr/local/lib/python3.10/dist-packages/fastai/text/learner.py:135: FutureWarning: You are using `torch.load` with `weights_only=False` (the current default value), which uses the default pickle module implicitly. It is possible to construct malicious pickle data which will execute arbitrary code during unpickling (See https://github.com/pytorch/pytorch/blob/main/SECURITY.md#untrusted-models for more details). In a future release, the default value for `weights_only` will be flipped to `True`. This limits the functions that could be executed during unpickling. Arbitrary objects will no longer be allowed to be loaded via this mode unless they are explicitly allowlisted by the user via `torch.serialization.add_safe_globals`. We recommend you start setting `weights_only=True` for any use case where you don't have full control of the loaded file. Please open an issue on GitHub for any issues related to this experimental feature.\n",
      "  wgts = torch.load(join_path_file(file,self.path/self.model_dir, ext='.pth'), map_location=device)\n"
     ]
    }
   ],
   "source": [
    "learn = learn.load_encoder('finetuned')"
   ]
  },
  {
   "cell_type": "code",
   "execution_count": 23,
   "id": "2884c5d1",
   "metadata": {
    "execution": {
     "iopub.execute_input": "2025-01-02T00:02:02.939688Z",
     "iopub.status.busy": "2025-01-02T00:02:02.939450Z",
     "iopub.status.idle": "2025-01-02T00:02:39.971467Z",
     "shell.execute_reply": "2025-01-02T00:02:39.970523Z"
    },
    "papermill": {
     "duration": 37.041,
     "end_time": "2025-01-02T00:02:39.973077",
     "exception": false,
     "start_time": "2025-01-02T00:02:02.932077",
     "status": "completed"
    },
    "tags": []
   },
   "outputs": [
    {
     "name": "stderr",
     "output_type": "stream",
     "text": [
      "/usr/local/lib/python3.10/dist-packages/fastai/callback/fp16.py:47: FutureWarning: `torch.cuda.amp.autocast(args...)` is deprecated. Please use `torch.amp.autocast('cuda', args...)` instead.\n",
      "  self.autocast,self.learn.scaler,self.scales = autocast(dtype=dtype),GradScaler(**self.kwargs),L()\n",
      "/usr/local/lib/python3.10/dist-packages/fastai/callback/fp16.py:47: FutureWarning: `torch.cuda.amp.GradScaler(args...)` is deprecated. Please use `torch.amp.GradScaler('cuda', args...)` instead.\n",
      "  self.autocast,self.learn.scaler,self.scales = autocast(dtype=dtype),GradScaler(**self.kwargs),L()\n"
     ]
    },
    {
     "data": {
      "text/html": [
       "\n",
       "<style>\n",
       "    /* Turns off some styling */\n",
       "    progress {\n",
       "        /* gets rid of default border in Firefox and Opera. */\n",
       "        border: none;\n",
       "        /* Needs to be in here for Safari polyfill so background images work as expected. */\n",
       "        background-size: auto;\n",
       "    }\n",
       "    progress:not([value]), progress:not([value])::-webkit-progress-bar {\n",
       "        background: repeating-linear-gradient(45deg, #7e7e7e, #7e7e7e 10px, #5c5c5c 10px, #5c5c5c 20px);\n",
       "    }\n",
       "    .progress-bar-interrupted, .progress-bar-interrupted::-webkit-progress-bar {\n",
       "        background: #F44336;\n",
       "    }\n",
       "</style>\n"
      ],
      "text/plain": [
       "<IPython.core.display.HTML object>"
      ]
     },
     "metadata": {},
     "output_type": "display_data"
    },
    {
     "data": {
      "text/html": [
       "<table border=\"1\" class=\"dataframe\">\n",
       "  <thead>\n",
       "    <tr style=\"text-align: left;\">\n",
       "      <th>epoch</th>\n",
       "      <th>train_loss</th>\n",
       "      <th>valid_loss</th>\n",
       "      <th>accuracy</th>\n",
       "      <th>time</th>\n",
       "    </tr>\n",
       "  </thead>\n",
       "  <tbody>\n",
       "    <tr>\n",
       "      <td>0</td>\n",
       "      <td>1.087831</td>\n",
       "      <td>1.008026</td>\n",
       "      <td>0.571237</td>\n",
       "      <td>00:36</td>\n",
       "    </tr>\n",
       "  </tbody>\n",
       "</table>"
      ],
      "text/plain": [
       "<IPython.core.display.HTML object>"
      ]
     },
     "metadata": {},
     "output_type": "display_data"
    }
   ],
   "source": [
    "learn.fit_one_cycle(1, 2e-2)"
   ]
  },
  {
   "cell_type": "code",
   "execution_count": 24,
   "id": "2cb6dd0e",
   "metadata": {
    "execution": {
     "iopub.execute_input": "2025-01-02T00:02:39.988883Z",
     "iopub.status.busy": "2025-01-02T00:02:39.988620Z",
     "iopub.status.idle": "2025-01-02T00:03:17.998280Z",
     "shell.execute_reply": "2025-01-02T00:03:17.997285Z"
    },
    "papermill": {
     "duration": 38.018918,
     "end_time": "2025-01-02T00:03:17.999544",
     "exception": false,
     "start_time": "2025-01-02T00:02:39.980626",
     "status": "completed"
    },
    "tags": []
   },
   "outputs": [
    {
     "name": "stderr",
     "output_type": "stream",
     "text": [
      "/usr/local/lib/python3.10/dist-packages/fastai/callback/fp16.py:47: FutureWarning: `torch.cuda.amp.autocast(args...)` is deprecated. Please use `torch.amp.autocast('cuda', args...)` instead.\n",
      "  self.autocast,self.learn.scaler,self.scales = autocast(dtype=dtype),GradScaler(**self.kwargs),L()\n",
      "/usr/local/lib/python3.10/dist-packages/fastai/callback/fp16.py:47: FutureWarning: `torch.cuda.amp.GradScaler(args...)` is deprecated. Please use `torch.amp.GradScaler('cuda', args...)` instead.\n",
      "  self.autocast,self.learn.scaler,self.scales = autocast(dtype=dtype),GradScaler(**self.kwargs),L()\n"
     ]
    },
    {
     "data": {
      "text/html": [
       "\n",
       "<style>\n",
       "    /* Turns off some styling */\n",
       "    progress {\n",
       "        /* gets rid of default border in Firefox and Opera. */\n",
       "        border: none;\n",
       "        /* Needs to be in here for Safari polyfill so background images work as expected. */\n",
       "        background-size: auto;\n",
       "    }\n",
       "    progress:not([value]), progress:not([value])::-webkit-progress-bar {\n",
       "        background: repeating-linear-gradient(45deg, #7e7e7e, #7e7e7e 10px, #5c5c5c 10px, #5c5c5c 20px);\n",
       "    }\n",
       "    .progress-bar-interrupted, .progress-bar-interrupted::-webkit-progress-bar {\n",
       "        background: #F44336;\n",
       "    }\n",
       "</style>\n"
      ],
      "text/plain": [
       "<IPython.core.display.HTML object>"
      ]
     },
     "metadata": {},
     "output_type": "display_data"
    },
    {
     "data": {
      "text/html": [
       "<table border=\"1\" class=\"dataframe\">\n",
       "  <thead>\n",
       "    <tr style=\"text-align: left;\">\n",
       "      <th>epoch</th>\n",
       "      <th>train_loss</th>\n",
       "      <th>valid_loss</th>\n",
       "      <th>accuracy</th>\n",
       "      <th>time</th>\n",
       "    </tr>\n",
       "  </thead>\n",
       "  <tbody>\n",
       "    <tr>\n",
       "      <td>0</td>\n",
       "      <td>0.985556</td>\n",
       "      <td>0.870743</td>\n",
       "      <td>0.638457</td>\n",
       "      <td>00:37</td>\n",
       "    </tr>\n",
       "  </tbody>\n",
       "</table>"
      ],
      "text/plain": [
       "<IPython.core.display.HTML object>"
      ]
     },
     "metadata": {},
     "output_type": "display_data"
    }
   ],
   "source": [
    "learn.freeze_to(-2)\n",
    "learn.fit_one_cycle(1, slice(1e-2/(2.6**4),1e-2))"
   ]
  },
  {
   "cell_type": "code",
   "execution_count": 25,
   "id": "a9fdbc5f",
   "metadata": {
    "execution": {
     "iopub.execute_input": "2025-01-02T00:03:18.015826Z",
     "iopub.status.busy": "2025-01-02T00:03:18.015573Z",
     "iopub.status.idle": "2025-01-02T00:11:49.489250Z",
     "shell.execute_reply": "2025-01-02T00:11:49.488340Z"
    },
    "papermill": {
     "duration": 511.483137,
     "end_time": "2025-01-02T00:11:49.490663",
     "exception": false,
     "start_time": "2025-01-02T00:03:18.007526",
     "status": "completed"
    },
    "tags": []
   },
   "outputs": [
    {
     "name": "stderr",
     "output_type": "stream",
     "text": [
      "/usr/local/lib/python3.10/dist-packages/fastai/callback/fp16.py:47: FutureWarning: `torch.cuda.amp.autocast(args...)` is deprecated. Please use `torch.amp.autocast('cuda', args...)` instead.\n",
      "  self.autocast,self.learn.scaler,self.scales = autocast(dtype=dtype),GradScaler(**self.kwargs),L()\n",
      "/usr/local/lib/python3.10/dist-packages/fastai/callback/fp16.py:47: FutureWarning: `torch.cuda.amp.GradScaler(args...)` is deprecated. Please use `torch.amp.GradScaler('cuda', args...)` instead.\n",
      "  self.autocast,self.learn.scaler,self.scales = autocast(dtype=dtype),GradScaler(**self.kwargs),L()\n"
     ]
    },
    {
     "data": {
      "text/html": [
       "\n",
       "<style>\n",
       "    /* Turns off some styling */\n",
       "    progress {\n",
       "        /* gets rid of default border in Firefox and Opera. */\n",
       "        border: none;\n",
       "        /* Needs to be in here for Safari polyfill so background images work as expected. */\n",
       "        background-size: auto;\n",
       "    }\n",
       "    progress:not([value]), progress:not([value])::-webkit-progress-bar {\n",
       "        background: repeating-linear-gradient(45deg, #7e7e7e, #7e7e7e 10px, #5c5c5c 10px, #5c5c5c 20px);\n",
       "    }\n",
       "    .progress-bar-interrupted, .progress-bar-interrupted::-webkit-progress-bar {\n",
       "        background: #F44336;\n",
       "    }\n",
       "</style>\n"
      ],
      "text/plain": [
       "<IPython.core.display.HTML object>"
      ]
     },
     "metadata": {},
     "output_type": "display_data"
    },
    {
     "data": {
      "text/html": [
       "<table border=\"1\" class=\"dataframe\">\n",
       "  <thead>\n",
       "    <tr style=\"text-align: left;\">\n",
       "      <th>epoch</th>\n",
       "      <th>train_loss</th>\n",
       "      <th>valid_loss</th>\n",
       "      <th>accuracy</th>\n",
       "      <th>time</th>\n",
       "    </tr>\n",
       "  </thead>\n",
       "  <tbody>\n",
       "    <tr>\n",
       "      <td>0</td>\n",
       "      <td>0.918036</td>\n",
       "      <td>0.831158</td>\n",
       "      <td>0.657874</td>\n",
       "      <td>00:51</td>\n",
       "    </tr>\n",
       "    <tr>\n",
       "      <td>1</td>\n",
       "      <td>0.817752</td>\n",
       "      <td>0.703869</td>\n",
       "      <td>0.717461</td>\n",
       "      <td>00:51</td>\n",
       "    </tr>\n",
       "    <tr>\n",
       "      <td>2</td>\n",
       "      <td>0.712501</td>\n",
       "      <td>0.546219</td>\n",
       "      <td>0.786422</td>\n",
       "      <td>00:51</td>\n",
       "    </tr>\n",
       "    <tr>\n",
       "      <td>3</td>\n",
       "      <td>0.566191</td>\n",
       "      <td>0.417119</td>\n",
       "      <td>0.838913</td>\n",
       "      <td>00:51</td>\n",
       "    </tr>\n",
       "    <tr>\n",
       "      <td>4</td>\n",
       "      <td>0.526801</td>\n",
       "      <td>0.336742</td>\n",
       "      <td>0.871318</td>\n",
       "      <td>00:51</td>\n",
       "    </tr>\n",
       "    <tr>\n",
       "      <td>5</td>\n",
       "      <td>0.414411</td>\n",
       "      <td>0.277676</td>\n",
       "      <td>0.896224</td>\n",
       "      <td>00:50</td>\n",
       "    </tr>\n",
       "    <tr>\n",
       "      <td>6</td>\n",
       "      <td>0.365399</td>\n",
       "      <td>0.258102</td>\n",
       "      <td>0.899571</td>\n",
       "      <td>00:50</td>\n",
       "    </tr>\n",
       "    <tr>\n",
       "      <td>7</td>\n",
       "      <td>0.375236</td>\n",
       "      <td>0.245268</td>\n",
       "      <td>0.906535</td>\n",
       "      <td>00:50</td>\n",
       "    </tr>\n",
       "    <tr>\n",
       "      <td>8</td>\n",
       "      <td>0.307283</td>\n",
       "      <td>0.235390</td>\n",
       "      <td>0.911757</td>\n",
       "      <td>00:51</td>\n",
       "    </tr>\n",
       "    <tr>\n",
       "      <td>9</td>\n",
       "      <td>0.311615</td>\n",
       "      <td>0.235573</td>\n",
       "      <td>0.910819</td>\n",
       "      <td>00:50</td>\n",
       "    </tr>\n",
       "  </tbody>\n",
       "</table>"
      ],
      "text/plain": [
       "<IPython.core.display.HTML object>"
      ]
     },
     "metadata": {},
     "output_type": "display_data"
    }
   ],
   "source": [
    "learn.unfreeze()\n",
    "learn.fit_one_cycle(10, slice(1e-3/(2.6**4),1e-3))"
   ]
  },
  {
   "cell_type": "code",
   "execution_count": 26,
   "id": "703c4aca",
   "metadata": {
    "execution": {
     "iopub.execute_input": "2025-01-02T00:11:49.507424Z",
     "iopub.status.busy": "2025-01-02T00:11:49.507165Z",
     "iopub.status.idle": "2025-01-02T00:11:50.087742Z",
     "shell.execute_reply": "2025-01-02T00:11:50.087050Z"
    },
    "papermill": {
     "duration": 0.590421,
     "end_time": "2025-01-02T00:11:50.089361",
     "exception": false,
     "start_time": "2025-01-02T00:11:49.498940",
     "status": "completed"
    },
    "tags": []
   },
   "outputs": [],
   "source": [
    "learn.export('model')"
   ]
  },
  {
   "cell_type": "code",
   "execution_count": 27,
   "id": "d86363cb",
   "metadata": {
    "execution": {
     "iopub.execute_input": "2025-01-02T00:11:50.105773Z",
     "iopub.status.busy": "2025-01-02T00:11:50.105516Z",
     "iopub.status.idle": "2025-01-02T00:11:50.486766Z",
     "shell.execute_reply": "2025-01-02T00:11:50.486050Z"
    },
    "papermill": {
     "duration": 0.390953,
     "end_time": "2025-01-02T00:11:50.488390",
     "exception": false,
     "start_time": "2025-01-02T00:11:50.097437",
     "status": "completed"
    },
    "tags": []
   },
   "outputs": [],
   "source": [
    "learn = load_learner('/kaggle/working/model')"
   ]
  },
  {
   "cell_type": "code",
   "execution_count": 28,
   "id": "308aff7b",
   "metadata": {
    "execution": {
     "iopub.execute_input": "2025-01-02T00:11:50.504811Z",
     "iopub.status.busy": "2025-01-02T00:11:50.504581Z",
     "iopub.status.idle": "2025-01-02T00:11:50.722925Z",
     "shell.execute_reply": "2025-01-02T00:11:50.721932Z"
    },
    "papermill": {
     "duration": 0.227858,
     "end_time": "2025-01-02T00:11:50.724420",
     "exception": false,
     "start_time": "2025-01-02T00:11:50.496562",
     "status": "completed"
    },
    "tags": []
   },
   "outputs": [
    {
     "data": {
      "text/html": [
       "\n",
       "<style>\n",
       "    /* Turns off some styling */\n",
       "    progress {\n",
       "        /* gets rid of default border in Firefox and Opera. */\n",
       "        border: none;\n",
       "        /* Needs to be in here for Safari polyfill so background images work as expected. */\n",
       "        background-size: auto;\n",
       "    }\n",
       "    progress:not([value]), progress:not([value])::-webkit-progress-bar {\n",
       "        background: repeating-linear-gradient(45deg, #7e7e7e, #7e7e7e 10px, #5c5c5c 10px, #5c5c5c 20px);\n",
       "    }\n",
       "    .progress-bar-interrupted, .progress-bar-interrupted::-webkit-progress-bar {\n",
       "        background: #F44336;\n",
       "    }\n",
       "</style>\n"
      ],
      "text/plain": [
       "<IPython.core.display.HTML object>"
      ]
     },
     "metadata": {},
     "output_type": "display_data"
    },
    {
     "data": {
      "text/html": [],
      "text/plain": [
       "<IPython.core.display.HTML object>"
      ]
     },
     "metadata": {},
     "output_type": "display_data"
    },
    {
     "name": "stdout",
     "output_type": "stream",
     "text": [
      "Neutral\n"
     ]
    }
   ],
   "source": [
    "pred,_,_ = learn.predict('Just realized that my Mac window partition')\n",
    "print(pred)\n"
   ]
  },
  {
   "cell_type": "code",
   "execution_count": null,
   "id": "9ce8ee43",
   "metadata": {
    "papermill": {
     "duration": 0.007713,
     "end_time": "2025-01-02T00:11:50.740746",
     "exception": false,
     "start_time": "2025-01-02T00:11:50.733033",
     "status": "completed"
    },
    "tags": []
   },
   "outputs": [],
   "source": []
  }
 ],
 "metadata": {
  "kaggle": {
   "accelerator": "nvidiaTeslaT4",
   "dataSources": [
    {
     "datasetId": 4607177,
     "sourceId": 7855159,
     "sourceType": "datasetVersion"
    }
   ],
   "dockerImageVersionId": 30823,
   "isGpuEnabled": true,
   "isInternetEnabled": true,
   "language": "python",
   "sourceType": "notebook"
  },
  "kernelspec": {
   "display_name": "Python 3",
   "language": "python",
   "name": "python3"
  },
  "language_info": {
   "codemirror_mode": {
    "name": "ipython",
    "version": 3
   },
   "file_extension": ".py",
   "mimetype": "text/x-python",
   "name": "python",
   "nbconvert_exporter": "python",
   "pygments_lexer": "ipython3",
   "version": "3.10.12"
  },
  "papermill": {
   "default_parameters": {},
   "duration": 1739.679278,
   "end_time": "2025-01-02T00:11:53.817235",
   "environment_variables": {},
   "exception": null,
   "input_path": "__notebook__.ipynb",
   "output_path": "__notebook__.ipynb",
   "parameters": {},
   "start_time": "2025-01-01T23:42:54.137957",
   "version": "2.6.0"
  }
 },
 "nbformat": 4,
 "nbformat_minor": 5
}
